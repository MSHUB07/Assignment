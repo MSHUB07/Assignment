{
 "cells": [
  {
   "cell_type": "markdown",
   "id": "3bf35b33-06a8-4b92-adc1-c2b823bcfbb6",
   "metadata": {},
   "source": [
    "1. Write a program to accept percentage from the user and display the grade according to the following \n",
    "criteria: \n",
    "Marks - \n",
    "Grade \n",
    ">90 - \n",
    "A ,\n",
    " >80 and <=90 - \n",
    "B ,\n",
    " >=60 and <=80 - \n",
    "C ,\n",
    " below 60 - \n",
    "D "
   ]
  },
  {
   "cell_type": "code",
   "execution_count": null,
   "id": "4b374d4f-a395-4716-800d-2c390eb6c0c1",
   "metadata": {},
   "outputs": [],
   "source": [
    "number =int(input(\"enter the marks\"))\n",
    "if number >= 90:\n",
    "    print(\"Grade - A\")\n",
    "elif number >= 80 and number <= 90:\n",
    "    print(\"Grade - B\")\n",
    "elif number >= 60 and number <= 80:\n",
    "    print(\"Grade - C\")\n",
    "else:\n",
    "    print(\"Grade - D\")"
   ]
  },
  {
   "cell_type": "markdown",
   "id": "07e244bb-5cb5-407a-a04e-d427ce11a5a6",
   "metadata": {},
   "source": [
    "2. Write a program to accept the cost price of a bike and display the road tax to be paid according to the \n",
    "following criteria: \n",
    "Tax \n",
    "15% \n",
    "10% \n",
    "5% \n",
    "Cost Price(in Rs) \n",
    ">100000 ,\n",
    "50000 and <= 100000 ,\n",
    "<= 50000 "
   ]
  },
  {
   "cell_type": "code",
   "execution_count": null,
   "id": "54fa1d1a-4225-45e1-91b5-30cb82fd1569",
   "metadata": {},
   "outputs": [],
   "source": [
    "cost_price = int(input(\" enter the price\"))\n",
    "if cost_price >100000:\n",
    "    print(\"Tax - 15%\")\n",
    "elif cost_price >50000 and cost_price <=100000:\n",
    "    print(\"Tax - 10%\")\n",
    "else:\n",
    "    print(\"Tax - 5%\")"
   ]
  },
  {
   "cell_type": "markdown",
   "id": "8cbae5ea-ce06-4496-b616-35dc1993e9bd",
   "metadata": {},
   "source": [
    "3. Accept any city from the user and display monuments of that city. \n",
    "City  -\n",
    "Monument:\n",
    "Delhi -\n",
    "Red Fort, \n",
    "Agra  -\n",
    "Taj Mahal,\n",
    "Jaipur -\n",
    "Jal Mahal \n"
   ]
  },
  {
   "cell_type": "code",
   "execution_count": null,
   "id": "56159391-9383-4471-a59a-35c365270065",
   "metadata": {},
   "outputs": [],
   "source": [
    "city = str(input(\"enter the city\"))\n",
    "if city == \"Delhi\":\n",
    "    print(\"Red Fort\")\n",
    "elif city == \"Agra\":\n",
    "    print(\"Taj Mahal\")\n",
    "elif city == \"Jaipur\":\n",
    "    print(\"Jal Mahal\")"
   ]
  },
  {
   "cell_type": "markdown",
   "id": "5d1f480c-136a-40c6-b9f3-2f42d5e7c5fa",
   "metadata": {},
   "source": [
    "4. Check how many times a given number can be divided by 3 before it is less than or equal to 10."
   ]
  },
  {
   "cell_type": "code",
   "execution_count": null,
   "id": "ae2aa395-8930-48e9-9cca-703a289f0081",
   "metadata": {},
   "outputs": [],
   "source": [
    "num = 555\n",
    "count = 0\n",
    "\n",
    "while True:\n",
    "    if num%3==0:\n",
    "        num = num/3\n",
    "    elif num%3!=0:\n",
    "        num = num -1\n",
    "    if num<=10:\n",
    "        break\n",
    "print(count)"
   ]
  },
  {
   "cell_type": "markdown",
   "id": "fee59364-a810-48a9-9735-f67dbf288999",
   "metadata": {},
   "source": [
    "5. Why and When to Use while Loop in Python give a detailed description with example "
   ]
  },
  {
   "cell_type": "markdown",
   "id": "227ce20a-6014-4d51-98cb-8138aba73824",
   "metadata": {},
   "source": [
    "while loop is used to run a block code until a certain condition is met."
   ]
  },
  {
   "cell_type": "code",
   "execution_count": null,
   "id": "7285ee38-2fbe-4714-95f6-c65e69b66271",
   "metadata": {},
   "outputs": [],
   "source": [
    "a= 1\n",
    "while a <= 10:\n",
    "    print(a)\n",
    "    a = a+1"
   ]
  },
  {
   "cell_type": "markdown",
   "id": "c052ee80-303a-4bcb-b84c-12404513c78d",
   "metadata": {},
   "source": [
    "In above example a while loop evaluate the condition.\n",
    "if the condition is true, the code inside while loop is executed.\n",
    "this process continues until the condition is false.\n",
    "when condition evaluates to false, the loop stops."
   ]
  },
  {
   "cell_type": "markdown",
   "id": "9faf92fc-e052-482c-a10a-daf432949c0a",
   "metadata": {},
   "source": [
    "6. Use nested while loop to print 3 different pattern. "
   ]
  },
  {
   "cell_type": "code",
   "execution_count": null,
   "id": "60871bcb-e00f-439b-9736-35db34e5d5df",
   "metadata": {},
   "outputs": [],
   "source": [
    "rows = 5\n",
    "for i in range(1,rows +1):\n",
    "    for j in range(1, i+1):\n",
    "        print(i, end=' ')\n",
    "    print(' ')"
   ]
  },
  {
   "cell_type": "code",
   "execution_count": null,
   "id": "ad1cabb7-3b43-43ed-8670-b61193c62e63",
   "metadata": {},
   "outputs": [],
   "source": [
    "rows = 5\n",
    "for i in range(rows, 0, -1):\n",
    "    for j in range(1, i+1):\n",
    "        print(i, end=' ')\n",
    "    print(' ')"
   ]
  },
  {
   "cell_type": "code",
   "execution_count": null,
   "id": "d017c0cb-b1da-4ab6-a3c0-4ba1ffe38079",
   "metadata": {},
   "outputs": [],
   "source": [
    "rows = 5\n",
    "c = 0\n",
    "for i in range(rows, 0, -1):\n",
    "    c += 1\n",
    "    for j in range(1, i+1):\n",
    "        print(c, end=' ')\n",
    "    print(' ')"
   ]
  },
  {
   "cell_type": "markdown",
   "id": "33a34877-b405-472f-93a4-35acb71ea117",
   "metadata": {},
   "source": [
    "7. Reverse a while loop to display numbers from 10 to 1."
   ]
  },
  {
   "cell_type": "code",
   "execution_count": null,
   "id": "feef885f-ba55-45b3-afab-83b40b7c38e0",
   "metadata": {},
   "outputs": [],
   "source": [
    "num = 10\n",
    "while ( num >=1):\n",
    "    print(num, end= ' ')\n",
    "    num = num - 1"
   ]
  }
 ],
 "metadata": {
  "kernelspec": {
   "display_name": "Python 3 (ipykernel)",
   "language": "python",
   "name": "python3"
  },
  "language_info": {
   "codemirror_mode": {
    "name": "ipython",
    "version": 3
   },
   "file_extension": ".py",
   "mimetype": "text/x-python",
   "name": "python",
   "nbconvert_exporter": "python",
   "pygments_lexer": "ipython3",
   "version": "3.10.8"
  }
 },
 "nbformat": 4,
 "nbformat_minor": 5
}
