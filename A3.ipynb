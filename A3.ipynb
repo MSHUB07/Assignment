{
 "cells": [
  {
   "cell_type": "markdown",
   "id": "3172ff63-a51e-4ea3-8a94-9d5b86226f8a",
   "metadata": {},
   "source": [
    "Q1.  Explain with an example each when to use a for loop and a while loop."
   ]
  },
  {
   "cell_type": "markdown",
   "id": "5ceb7642-c2fa-4f6d-8e65-61c33dbe5eee",
   "metadata": {},
   "source": [
    "Ans. A for loop is used to repeat a specific block of code a known number of times.\n",
    "for example, if we want to check the grade of every students in the class, we loop the grade of every student in the class, we loop from 1 to that number.\n",
    "\n",
    "A while loop is used to repeat a specific block of code an unknown number of times, until a condition is met.\n",
    "for example, if we want to ask a user for a number between 1 and 10, we don't know how many times the user may enter a larger number, so we keep    asking \"while the number is not between 1 and 10\"."
   ]
  },
  {
   "cell_type": "markdown",
   "id": "2b36009f-6ad4-43ef-b1af-b26919cbdf5c",
   "metadata": {},
   "source": [
    "Q2.  Write a python program to print the sum and product of the first 10 natural numbers using for  and while loop."
   ]
  },
  {
   "cell_type": "code",
   "execution_count": null,
   "id": "3d777c7a-795b-405b-92e4-92a39105900f",
   "metadata": {},
   "outputs": [],
   "source": [
    "# sum of natural numbers using for loop \n",
    "#num = 10\n",
    "num = int(input(\" enter the number: \"))\n",
    "total_sum = 0\n",
    "for i in range(1,num +1):\n",
    "    total_sum = total_sum + i\n",
    "    print(total_sum)"
   ]
  },
  {
   "cell_type": "code",
   "execution_count": null,
   "id": "338ed393-b90e-4f6d-af88-a9db08499c3e",
   "metadata": {},
   "outputs": [],
   "source": [
    "# sum of natural numbers using while loop\n",
    "num = 1\n",
    "total_sum = 0\n",
    "while num>=10:\n",
    "    total_sum = total_sum + num\n",
    "    print(total_sum)\n"
   ]
  },
  {
   "cell_type": "code",
   "execution_count": null,
   "id": "04ea5dea-a0c9-4bd0-ab89-44bc84e4b9b9",
   "metadata": {},
   "outputs": [],
   "source": [
    "#product of natural numbers using for loop\n",
    "num = 1\n",
    "pro = 1\n",
    "for i in range(10):\n",
    "    pro = pro * num\n",
    "    num = num +1\n",
    "    print(pro)"
   ]
  },
  {
   "cell_type": "code",
   "execution_count": null,
   "id": "76ee847c-9b74-4f8d-b1b6-cda465e56d18",
   "metadata": {},
   "outputs": [],
   "source": [
    "# product of natural numbers using while loop\n",
    "num = 1\n",
    "pro = 1\n",
    "while num<=10:\n",
    "    pro = pro * num\n",
    "    num = num + 1\n",
    "print(pro)"
   ]
  },
  {
   "cell_type": "markdown",
   "id": "be26996d-33a7-49af-a074-4d8ea404fc53",
   "metadata": {},
   "source": [
    "Q3. Create a python program to compute the electricity bill for a household. \n",
    "The per-unit charges in rupees are as follows: For the first 100 units, the user will be charged Rs. 4.5 per  unit, for the next 100 units, the user will be charged Rs. 6 per unit, and for the next 100 units, the user will  be charged Rs. 10 per unit, After 300 units and above the user will be charged Rs. 20 per unit. \n",
    "You are required to take the units of electricity consumed in a month from the user as input. \n",
    "Your program must pass this test case: when the unit of electricity consumed by the user in a month is  310, the total electricity bill should be 2250. \n"
   ]
  },
  {
   "cell_type": "code",
   "execution_count": null,
   "id": "3f8616dc-cf01-4b63-aaa0-ca1dcb042ea0",
   "metadata": {},
   "outputs": [],
   "source": [
    "units = int(input(\"Enter units:\"))\n",
    "if units <= 100:\n",
    "    bill = 100 * 4.5\n",
    "elif units >100 and units <=200:\n",
    "    bill = (100 * 4.5) +(units - 100) * 6\n",
    "elif units >200 and units <=300:\n",
    "    bill = (100 * 4.5) + (100 * 6) + (units - 200) * 10\n",
    "else:\n",
    "     bill = (100 * 4.5) + (100 * 6) + (100 * 10) + (units - 300) * 20\n",
    "print(bill)"
   ]
  },
  {
   "cell_type": "markdown",
   "id": "0444b5c8-ead5-40dc-9385-a8f7adf28c84",
   "metadata": {},
   "source": [
    "Q4. Create a list of numbers from 1 to 100. Use for loop and while loop to calculate the cube of each\n",
    "number and if the cube of that number is divisible by 4 or 5 then append that number in a list and print\n",
    "that list."
   ]
  },
  {
   "cell_type": "code",
   "execution_count": null,
   "id": "dc5d58f1-6220-41bc-b509-eaa251784b9c",
   "metadata": {},
   "outputs": [],
   "source": [
    "# using for loop\n",
    "l = []\n",
    "i = 1\n",
    "for i in range(1,101):\n",
    "    c = i**3\n",
    "    if c%4==0:\n",
    "        l.append(i)\n",
    "    elif c%5==0:\n",
    "        l.append(i)\n",
    "print(l)"
   ]
  },
  {
   "cell_type": "code",
   "execution_count": null,
   "id": "5c7bfd71-e28a-4706-ab7a-14936574fe45",
   "metadata": {},
   "outputs": [],
   "source": [
    "# using while loop\n",
    "l = []\n",
    "i = 1\n",
    "while i<=100:\n",
    "    c = i**3\n",
    "    if (c%4==0) or (c%5==0):\n",
    "        l.append(i)\n",
    "    i = i + 1\n",
    "print(l)"
   ]
  },
  {
   "cell_type": "markdown",
   "id": "05e9f26a-f57f-42be-a4a4-13bae2135816",
   "metadata": {},
   "source": [
    "Q5. Write a program to filter count vowels in the below-given string.\n",
    "string = \"I want to become a data scientist\""
   ]
  },
  {
   "cell_type": "code",
   "execution_count": null,
   "id": "7919cc6e-c0a6-43cd-a307-8a84aebb5381",
   "metadata": {},
   "outputs": [],
   "source": []
  }
 ],
 "metadata": {
  "kernelspec": {
   "display_name": "Python 3 (ipykernel)",
   "language": "python",
   "name": "python3"
  },
  "language_info": {
   "codemirror_mode": {
    "name": "ipython",
    "version": 3
   },
   "file_extension": ".py",
   "mimetype": "text/x-python",
   "name": "python",
   "nbconvert_exporter": "python",
   "pygments_lexer": "ipython3",
   "version": "3.10.8"
  }
 },
 "nbformat": 4,
 "nbformat_minor": 5
}
