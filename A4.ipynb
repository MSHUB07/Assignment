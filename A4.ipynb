{
 "cells": [
  {
   "cell_type": "markdown",
   "id": "3656dfc3-9890-4aed-adc6-e5a3498e3ba7",
   "metadata": {},
   "source": [
    "Q1. Which keyword is used to create a function? Create a function to return a list of odd numbers in the\n",
    "range of 1 to 25."
   ]
  },
  {
   "cell_type": "markdown",
   "id": "5e1638a2-2661-4acc-a6c8-a4185431971f",
   "metadata": {},
   "source": [
    "The def keyword is used to create a function."
   ]
  },
  {
   "cell_type": "code",
   "execution_count": 7,
   "id": "dec3ba90-130f-473c-9f07-27e666dd0dbe",
   "metadata": {},
   "outputs": [],
   "source": [
    "def odd_num():\n",
    "\n",
    "    for i in range(1,26):\n",
    "        if i %2!=0:\n",
    "            print(i)"
   ]
  },
  {
   "cell_type": "markdown",
   "id": "c239fd9d-275f-40dd-8e1d-4838697e2893",
   "metadata": {},
   "source": [
    "Q2. Why *args and **kwargs is used in some functions? Create a function each for *args and **kwargs\n",
    "to demonstrate their use."
   ]
  },
  {
   "cell_type": "markdown",
   "id": "da8c3489-a355-4636-99e5-92c847c7de23",
   "metadata": {},
   "source": [
    "*args allows us to pass a variable number of non-keyword arguments to a python function. In the function, we should use an asterisk(*) before the parameter name to pass a variable number of arguments."
   ]
  },
  {
   "cell_type": "code",
   "execution_count": null,
   "id": "8f80b28d-0ad0-42c1-910b-f777a447bc89",
   "metadata": {},
   "outputs": [],
   "source": [
    "# example of *args\n",
    "def details(name,*data):\n",
    "    \n",
    "    print(name)\n",
    "    print(*data)\n",
    "    \n",
    "details(\"mohit\", 22, \"ahmedabad\", 96760067)"
   ]
  },
  {
   "cell_type": "markdown",
   "id": "341e33f8-e827-4df0-90a2-129b204e52b8",
   "metadata": {},
   "source": [
    "**kwargs allows us to pass a variable number of keyworded arguments to a python function. In the function, we should use two asterisk(*) before the parameter name to pass a variable number of arguments."
   ]
  },
  {
   "cell_type": "code",
   "execution_count": null,
   "id": "489c634b-9109-4108-8853-5bf4aea9b33d",
   "metadata": {},
   "outputs": [],
   "source": [
    "def details(name,**data):\n",
    "    \n",
    "    print(name)\n",
    "    print(data)\n",
    "    \n",
    "details(\"mohit\", age=22, city=\"ahmedabad\", num=96760067)"
   ]
  },
  {
   "cell_type": "markdown",
   "id": "94ed533b-c8fe-43be-8cbc-62ab7e9cf814",
   "metadata": {},
   "source": [
    "Q3. What is an iterator in python? Name the method used to initialise the iterator object and the method\n",
    "used for iteration. Use these methods to print the first five elements of the given list [2, 4, 6, 8, 10, 12, 14,\n",
    "16, 18, 20]."
   ]
  },
  {
   "cell_type": "markdown",
   "id": "b7a38649-8638-4dd8-a59a-1fc88a8cf223",
   "metadata": {},
   "source": [
    "An iterator is an object that contains a countable number of value. An iterator is an object that can be traverse through all the value. The iter() method used to initialise the iterator object and the next() method used for iteration."
   ]
  },
  {
   "cell_type": "code",
   "execution_count": null,
   "id": "61bf1b86-ac0e-4931-961d-de9481723140",
   "metadata": {},
   "outputs": [],
   "source": [
    "l = [2, 4, 8, 8, 10, 12, 14, 18, 18, 20]\n",
    "first = iter(l)\n",
    "\n",
    "for i in range(5):\n",
    "    print(next(first))\n"
   ]
  },
  {
   "cell_type": "markdown",
   "id": "8f306744-8fab-4912-85af-78f32ccbf771",
   "metadata": {},
   "source": [
    "Q4. What is a generator function in python? Why yield keyword is used? Give an example of a generator\n",
    "function."
   ]
  },
  {
   "cell_type": "markdown",
   "id": "e34824a0-0d26-4b70-ae95-1f3a18ce529c",
   "metadata": {},
   "source": [
    "In python, a generator is a function that returnsa an iterator that produces a sequence of values when iterated over. Generators are useful when we want to produce a large sequence of values, but we don't want to store all of them in memory at once.\n",
    "The yield keyword pauses generator function execution and the value of the expression following the yield keyword is returned to the generator's caller."
   ]
  },
  {
   "cell_type": "code",
   "execution_count": null,
   "id": "cd67a47e-c036-49bc-adbd-8ee242a3e61a",
   "metadata": {},
   "outputs": [],
   "source": [
    "def gen():\n",
    "    yield \"gen\"\n",
    "    yield \"era\"\n",
    "    yield \"tor\"\n",
    "for i in gen():\n",
    "    print(i)"
   ]
  },
  {
   "cell_type": "markdown",
   "id": "f1c447fc-c8bd-4dcc-8cb6-e8cd1a49659a",
   "metadata": {},
   "source": [
    "Q5. Create a generator function for prime numbers less than 1000. Use the next() method to print the\n",
    "first 20 prime numbers."
   ]
  },
  {
   "cell_type": "code",
   "execution_count": null,
   "id": "cfd09f4d-b134-497a-a2c3-8eb0061f421c",
   "metadata": {},
   "outputs": [],
   "source": [
    "def primes():\n",
    "    yield 2\n",
    "    yield 3\n",
    "    i = 5\n",
    "    while i <1000:\n",
    "        is_prime = True\n",
    "        for j in range(2,int(i**0.5)+1):\n",
    "            if i % j ==0:\n",
    "                is_prime = False\n",
    "                break\n",
    "        if is_prime:\n",
    "            yield i\n",
    "        i+=2\n",
    "prime_gen = primes()\n",
    "for i in range(20):\n",
    "    print(next(prime_gen))"
   ]
  },
  {
   "cell_type": "markdown",
   "id": "5ee3fd0f-f6ea-4bb7-b0bf-ba52942aa04c",
   "metadata": {},
   "source": [
    "Q6. Write a python program to print the first 10 Fibonacci numbers using a while loop."
   ]
  },
  {
   "cell_type": "code",
   "execution_count": null,
   "id": "19c6db04-d576-42fe-9e2b-aa316a28fb0d",
   "metadata": {},
   "outputs": [],
   "source": [
    "num = 10\n",
    "a , b = 0, 1\n",
    "count = 0\n",
    "while count<num:\n",
    "    print(a)\n",
    "    c = a + b\n",
    "    a = b\n",
    "    b = c\n",
    "    count = count + 1"
   ]
  },
  {
   "cell_type": "markdown",
   "id": "ba1410ee-affd-477b-b55b-dc5034a183ba",
   "metadata": {},
   "source": [
    "Q7. Write a List Comprehension to iterate through the given string: ‘pwskills’.\n",
    "Expected output: ['p', 'w', 's', 'k', 'i', 'l', 'l', 's']"
   ]
  },
  {
   "cell_type": "code",
   "execution_count": null,
   "id": "ef4cb243-5622-4539-bcd0-f05edbd092df",
   "metadata": {},
   "outputs": [],
   "source": [
    "l = \"pwskills\"\n",
    "\n",
    "l = [i for i in l]\n",
    "                    \n",
    "print(l)"
   ]
  },
  {
   "cell_type": "markdown",
   "id": "e5e3c9ca-9595-4315-9b5b-c49becca53b0",
   "metadata": {},
   "source": [
    "Q8. Write a python program to check whether a given number is Palindrome or not using a while loop."
   ]
  },
  {
   "cell_type": "code",
   "execution_count": null,
   "id": "c2997478-3a81-4b96-875e-82d0dfe10ad1",
   "metadata": {},
   "outputs": [],
   "source": [
    "num = input(\"enter the number:\")\n",
    "while num == num[::-1]:\n",
    "    \n",
    "    print(\"it's a palindrome number\")\n",
    "    break\n",
    "else:\n",
    "    print(\"it's not a palindrome number\")"
   ]
  },
  {
   "cell_type": "markdown",
   "id": "a0306e10-0af2-4c4a-b78c-d9e20f4b3ca2",
   "metadata": {},
   "source": [
    "Q9. Write a code to print odd numbers from 1 to 100 using list comprehension.\n",
    "Note: Use a list comprehension to create a list from 1 to 100 and use another List comprehension to filter\n",
    "out odd numbers."
   ]
  },
  {
   "cell_type": "code",
   "execution_count": null,
   "id": "7054d409-527d-4e8e-8dfc-8e0714b55e2a",
   "metadata": {},
   "outputs": [],
   "source": [
    "odd_num = [i for i in range(1,101) if i % 2 == 1]\n",
    "print(odd_num)"
   ]
  }
 ],
 "metadata": {
  "kernelspec": {
   "display_name": "Python 3 (ipykernel)",
   "language": "python",
   "name": "python3"
  },
  "language_info": {
   "codemirror_mode": {
    "name": "ipython",
    "version": 3
   },
   "file_extension": ".py",
   "mimetype": "text/x-python",
   "name": "python",
   "nbconvert_exporter": "python",
   "pygments_lexer": "ipython3",
   "version": "3.10.8"
  }
 },
 "nbformat": 4,
 "nbformat_minor": 5
}
