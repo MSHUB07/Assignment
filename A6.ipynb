{
 "cells": [
  {
   "cell_type": "markdown",
   "id": "4d22e448-9eaf-49d6-9b10-c4edbb4b8307",
   "metadata": {},
   "source": [
    "Q1. Explain Class and Object with respect to Object-Oriented Programming. Give a suitable example."
   ]
  },
  {
   "cell_type": "markdown",
   "id": "33445215-c351-46af-8055-f8f76775d6b9",
   "metadata": {},
   "source": [
    "A class is considered as a blueprint of objects. \n",
    "An object is called an instance of a class.\n",
    "example:-"
   ]
  },
  {
   "cell_type": "code",
   "execution_count": 4,
   "id": "3218a7e3-554f-426c-81bf-b77bd85df0c4",
   "metadata": {},
   "outputs": [
    {
     "data": {
      "text/plain": [
       "('available', 'not_available', 'availabel')"
      ]
     },
     "execution_count": 4,
     "metadata": {},
     "output_type": "execute_result"
    }
   ],
   "source": [
    " class vehicles():\n",
    "               \n",
    "            def __init__(self, two_wheel, three_wheel , four_wheel):\n",
    "                            self.two_wheel = two_wheel\n",
    "                            self.three_wheel = three_wheel\n",
    "                            self.four_wheel = four_wheel\n",
    "                \n",
    "            def return_variant_info(self):\n",
    "                return self.two_wheel, self.three_wheel, self.four_wheel\n",
    "            \n",
    "            \n",
    "honda = vehicles(\"available\" , \"not_available\", \"availabel\")\n",
    "honda.return_variant_info()\n",
    "                \n",
    "            "
   ]
  },
  {
   "cell_type": "markdown",
   "id": "4f3060b3-41a8-4927-8cb9-e09baf910787",
   "metadata": {},
   "source": [
    "Q2. Name the four pillars of OOPs."
   ]
  },
  {
   "cell_type": "markdown",
   "id": "b394863e-790f-4f96-9f63-135115d1d30a",
   "metadata": {},
   "source": [
    "Inheritance , Polymorphism, Encapsulation and Abstraction are the four pillars of OOps."
   ]
  },
  {
   "cell_type": "markdown",
   "id": "340352fb-59aa-4da6-965d-ee199394f4c1",
   "metadata": {},
   "source": [
    "Q3. Explain why the __init__() function is used. Give a suitable example."
   ]
  },
  {
   "cell_type": "markdown",
   "id": "57973b02-d3c5-49d4-82cd-c3a127933ec8",
   "metadata": {},
   "source": [
    "The __init__ function is called every time an object is created from a class. The __init__ method lets the class initialize the object's attributes and serves no other purpose. It is only used within classes."
   ]
  },
  {
   "cell_type": "code",
   "execution_count": 6,
   "id": "0947f899-1922-4c7c-84d2-f1d866ee2c8d",
   "metadata": {},
   "outputs": [
    {
     "name": "stdout",
     "output_type": "stream",
     "text": [
      "sharma 22\n"
     ]
    }
   ],
   "source": [
    "class personal_info():\n",
    "    \n",
    "    def __init__(mohit, surname , age):\n",
    "        mohit.surname = surname\n",
    "        mohit.age = age\n",
    "name = personal_info(\"sharma\" , 22)\n",
    "print(name.surname, name.age)"
   ]
  },
  {
   "cell_type": "markdown",
   "id": "e223a1c0-ff4d-4f34-a314-a5f602bd06f1",
   "metadata": {},
   "source": [
    "Q4. Why self is used in OOPs?"
   ]
  },
  {
   "cell_type": "markdown",
   "id": "e036e3f5-03d7-48b5-a19a-f07bf4cd6eee",
   "metadata": {},
   "source": [
    "The self parameter is a reference to the current instance of the class and is used to access variables that belongs to the class. It does not have to be named self, you can call it whatever you like, but it has to be the first parameter of any function in the class:"
   ]
  },
  {
   "cell_type": "markdown",
   "id": "a56be12b-e05f-4247-a12f-b89804368cad",
   "metadata": {},
   "source": [
    "Q5. What is inheritance? Give an example for each type of inheritance."
   ]
  },
  {
   "cell_type": "markdown",
   "id": "25f8cb89-5c37-4004-85da-aba03ccf123a",
   "metadata": {},
   "source": [
    "In heritance allows us to define a class that inherits all the methods and properties from another class."
   ]
  },
  {
   "cell_type": "code",
   "execution_count": 7,
   "id": "b73ccc2b-3099-408b-80c1-3714b505aacf",
   "metadata": {},
   "outputs": [
    {
     "name": "stdout",
     "output_type": "stream",
     "text": [
      "mohit sharma\n"
     ]
    }
   ],
   "source": [
    "class personal():\n",
    "    def __init__ (self, name):\n",
    "        self.name = name\n",
    "    def display(self):\n",
    "        print(self.name)\n",
    "details = personal(\"mohit sharma\")\n",
    "details.display()"
   ]
  },
  {
   "cell_type": "code",
   "execution_count": 8,
   "id": "3c859d3d-7448-43c2-9388-37ec3a6007e0",
   "metadata": {},
   "outputs": [
    {
     "name": "stdout",
     "output_type": "stream",
     "text": [
      "sharma mohit\n",
      "\n"
     ]
    }
   ],
   "source": [
    "class det(personal):\n",
    "    def print(self):\n",
    "        print('')\n",
    "ext_det = det('sharma mohit')\n",
    "ext_det.display()\n",
    "ext_det.print()"
   ]
  }
 ],
 "metadata": {
  "kernelspec": {
   "display_name": "Python 3 (ipykernel)",
   "language": "python",
   "name": "python3"
  },
  "language_info": {
   "codemirror_mode": {
    "name": "ipython",
    "version": 3
   },
   "file_extension": ".py",
   "mimetype": "text/x-python",
   "name": "python",
   "nbconvert_exporter": "python",
   "pygments_lexer": "ipython3",
   "version": "3.10.8"
  }
 },
 "nbformat": 4,
 "nbformat_minor": 5
}
